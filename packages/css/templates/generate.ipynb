{
 "cells": [
  {
   "cell_type": "code",
   "execution_count": 1,
   "metadata": {},
   "outputs": [],
   "source": [
    "def getAgentRegistration(agent, accessGrantId):\n",
    "    import datetime\n",
    "    return '''@prefix interop: <http://www.w3.org/ns/solid/interop#>.\n",
    "    @prefix xsd: <http://www.w3.org/2001/XMLSchema#>.\n",
    "    @prefix pod-agents: <{{{{podBaseUrl}}}}registries/agents/>.\n",
    "    @prefix pod-grants: <{{{{podBaseUrl}}}}registries/authorizations/>.\n",
    "    <>\n",
    "    a interop:SocialAgentRegistration ;\n",
    "    interop:registeredBy <{{{{webId}}}}> ;\n",
    "    interop:registeredWith <{{{{authorizationAgent}}}}> ;\n",
    "    interop:registeredAt \"{dateTime}\"^^xsd:dateTime ;\n",
    "    interop:updatedAt \"{dateTime}\"^^xsd:dateTime ;\n",
    "    interop:registeredAgent <{agent}> ;\n",
    "    interop:hasAccessGrant pod-grants:{accessGrantId} .'''.format(agent=agent,accessGrantId=accessGrantId,dateTime=datetime.datetime.now().isoformat())"
   ]
  },
  {
   "cell_type": "code",
   "execution_count": 2,
   "metadata": {},
   "outputs": [],
   "source": [
    "def getApplicationRegistration(application, accessGrantId):\n",
    "    import datetime\n",
    "    return '''@prefix interop: <http://www.w3.org/ns/solid/interop#>.\n",
    "    @prefix xsd: <http://www.w3.org/2001/XMLSchema#>.\n",
    "    @prefix pod-agents: <{{{{podBaseUrl}}}}registries/agents/>.\n",
    "    @prefix pod-grants: <{{{{podBaseUrl}}}}registries/authorizations/>.\n",
    "    <>\n",
    "    a interop:ApplicationRegistration ;\n",
    "    interop:registeredBy <{{{{webId}}}}> ;\n",
    "    interop:registeredWith <{{{{authorizationAgent}}}}> ;\n",
    "    interop:registeredAt \"{dateTime}\"^^xsd:dateTime ;\n",
    "    interop:updatedAt \"{dateTime}\"^^xsd:dateTime ;\n",
    "    interop:registeredAgent <{app}> ;\n",
    "    interop:hasAccessGrant pod-grants:{accessGrantId} .'''.format(app=application,accessGrantId=accessGrantId,dateTime=datetime.datetime.now().isoformat())"
   ]
  },
  {
   "cell_type": "code",
   "execution_count": 3,
   "metadata": {},
   "outputs": [],
   "source": [
    "def getAccessGrant(agent, dataGrantIds):\n",
    "    return '''@prefix interop: <http://www.w3.org/ns/solid/interop#>.\n",
    "@prefix xsd: <http://www.w3.org/2001/XMLSchema#>.\n",
    "@prefix pod-grants: <{{{{podBaseUrl}}}}registries/authorizations/>.\n",
    "<>\n",
    "  a interop:AccessGrant ;\n",
    "  interop:grantedBy <{{{{webId}}}}> ;\n",
    "  interop:grantedAt \"2020-04-04T20:15:47.000Z\"^^xsd:dateTime ;\n",
    "  interop:grantee <{agent}> ;\n",
    "  interop:hasAccessNeedGroup <{agent}/needs> ;\n",
    "  interop:hasDataGrant\n",
    "    {dataGrants} .'''.format(agent=agent,dataGrants=','.join([f'pod-grants:{x}' for x in dataGrantIds]))"
   ]
  },
  {
   "cell_type": "code",
   "execution_count": 4,
   "metadata": {},
   "outputs": [],
   "source": [
    "def getAllFromRegistryDataGrant(agent, registrationId, shapeTree=\"solidtrees:Task.ttl\"): \n",
    "    return '''@prefix interop: <http://www.w3.org/ns/solid/interop#>.\n",
    "@prefix pod-grants: <{{{{podBaseUrl}}}}registries/authorizations/>.\n",
    "@prefix pod-data: <{{{{podBaseUrl}}}}data/>.\n",
    "@prefix solidtrees: <https://thundr.be/experiments/interop/trees/>.\n",
    "@prefix acl: <http://www.w3.org/ns/auth/acl#>.\n",
    "\n",
    "<>\n",
    "  a interop:DataGrant ;\n",
    "  interop:dataOwner <{{{{webId}}}}> ;\n",
    "  interop:grantee <https://example.org/id> ;\n",
    "  interop:registeredShapeTree {shapeTree} ;\n",
    "  interop:hasDataRegistration  pod-data:{registrationId}\\/;\n",
    "  interop:satisfiesAccessNeed <{agent}/needs#1> ;\n",
    "  interop:accessMode acl:Read, acl:Create, acl:Append, acl:Delete ;\n",
    "  interop:scopeOfGrant interop:AllFromRegistry .\n",
    "    '''.format(agent=agent, registrationId=registrationId, shapeTree=shapeTree)"
   ]
  },
  {
   "cell_type": "code",
   "execution_count": 5,
   "metadata": {},
   "outputs": [],
   "source": [
    "def getDataRegistry(registrationIds):\n",
    "    return '''@prefix interop: <http://www.w3.org/ns/solid/interop#>.\n",
    "@prefix pod-data: <{{{{podBaseUrl}}}}data/>.\n",
    "@prefix pod: <{{{{podBaseUrl}}}}>.\n",
    "\n",
    "pod:registries\\/data\\/index\n",
    "  interop:hasDataRegistration {registrations};\n",
    "  a interop:DataRegistry .\n",
    "    '''.format(registrations=','.join([f'pod-data:{x}\\/' for x in registrationIds]))"
   ]
  },
  {
   "cell_type": "code",
   "execution_count": 6,
   "metadata": {},
   "outputs": [],
   "source": [
    "def getAuthorizationRegistry():\n",
    "    return '''@prefix interop: <http://www.w3.org/ns/solid/interop#>.\n",
    "@prefix pod: <{{podBaseUrl}}>.\n",
    "\n",
    "pod:registries\\/authorizations\\/index\n",
    "  a interop:AuthorizationRegistry .'''"
   ]
  },
  {
   "cell_type": "code",
   "execution_count": 7,
   "metadata": {},
   "outputs": [],
   "source": [
    "def getAgentRegistry(agentRegistrationIds, applicationRegistrationIds):\n",
    "    return '''@prefix interop: <http://www.w3.org/ns/solid/interop#>.\n",
    "@prefix pod-agents: <{{{{podBaseUrl}}}}registries/agents/>.\n",
    "\n",
    "pod-agents:index\n",
    "  interop:hasSocialAgentRegistration {agentRegistrations};\n",
    "  interop:hasApplicationRegistration {appRegistrations};\n",
    "  a interop:AgentRegistry .'''.format(agentRegistrations=','.join([f'pod-agents:{x}' for x in agentRegistrationIds]),\n",
    "  appRegistrations=','.join([f'pod-agents:{x}' for x in applicationRegistrationIds]))"
   ]
  },
  {
   "cell_type": "code",
   "execution_count": 8,
   "metadata": {},
   "outputs": [],
   "source": [
    "def getRegistrySet():\n",
    "    return '''@prefix interop: <http://www.w3.org/ns/solid/interop#>.\n",
    "@prefix pod: <{{podBaseUrl}}>.\n",
    "\n",
    "<>\n",
    "  a interop:RegistrySet ;\n",
    "  interop:hasAgentRegistry pod:registries\\/agents\\/index ;\n",
    "  interop:hasAuthorizationRegistry pod:registries\\/authorizations\\/index ;\n",
    "  interop:hasDataRegistry pod:registries\\/data\\/index .'''"
   ]
  },
  {
   "cell_type": "code",
   "execution_count": 9,
   "metadata": {},
   "outputs": [],
   "source": [
    "def getTaskRegistrationMeta():\n",
    "    return '''PREFIX xsd: <http://www.w3.org/2001/XMLSchema#>\n",
    "PREFIX interop: <http://www.w3.org/ns/solid/interop#>\n",
    "PREFIX solidtrees: <https://thundr.be/experiments/interop/trees/>\n",
    "\n",
    "<>\n",
    "  a interop:DataRegistration ;\n",
    "  interop:registeredBy <{{webId}}> ;\n",
    "  interop:registeredWith <{{authorizationAgent}}> ;\n",
    "  interop:registeredAt \"2022-05-18T11:42:36.000Z\"^^xsd:dateTime ;\n",
    "  interop:registeredShapeTree solidtrees:Task.ttl .'''"
   ]
  },
  {
   "cell_type": "code",
   "execution_count": null,
   "metadata": {},
   "outputs": [],
   "source": []
  },
  {
   "cell_type": "code",
   "execution_count": 10,
   "metadata": {},
   "outputs": [],
   "source": [
    "def getTask():\n",
    "  msg = \"Clean my room.\"\n",
    "  return '''PREFIX rdfs: <http://www.w3.org/2000/01/rdf-schema#>\n",
    "PREFIX pm: <https://vocab.example/project-management/>\n",
    "\n",
    "<#task>\n",
    "  a pm:Task ;\n",
    "  rdfs:label \"{msg}\" .'''.format(msg=msg)"
   ]
  },
  {
   "cell_type": "code",
   "execution_count": 11,
   "metadata": {},
   "outputs": [
    {
     "data": {
      "text/plain": [
       "'@prefix interop: <http://www.w3.org/ns/solid/interop#>.\\n    @prefix xsd: <http://www.w3.org/2001/XMLSchema#>.\\n    @prefix pod-agents: <{{podBaseUrl}}registries/agents/>.\\n    @prefix pod-grants: <{{podBaseUrl}}registries/authorizations/>.\\n    <>\\n    a interop:SocialAgentRegistration ;\\n    interop:registeredBy <{{webId}}> ;\\n    interop:registeredWith <{{authorizationAgent}}> ;\\n    interop:registeredAt \"2022-05-26T09:57:28.265942\"^^xsd:dateTime ;\\n    interop:updatedAt \"2022-05-26T09:57:28.265942\"^^xsd:dateTime ;\\n    interop:registeredAgent <http://example.com> ;\\n    interop:hasAccessGrant pod-grants:123 .'"
      ]
     },
     "execution_count": 11,
     "metadata": {},
     "output_type": "execute_result"
    }
   ],
   "source": [
    "getAgentRegistration('http://example.com', '123')"
   ]
  },
  {
   "cell_type": "code",
   "execution_count": 12,
   "metadata": {},
   "outputs": [
    {
     "data": {
      "text/plain": [
       "'@prefix interop: <http://www.w3.org/ns/solid/interop#>.\\n@prefix xsd: <http://www.w3.org/2001/XMLSchema#>.\\n@prefix pod-grants: <{{podBaseUrl}}registries/authorizations/>.\\n<>\\n  a interop:AccessGrant ;\\n  interop:grantedBy <{{webId}}> ;\\n  interop:grantedAt \"2020-04-04T20:15:47.000Z\"^^xsd:dateTime ;\\n  interop:grantee <http://example.com> ;\\n  interop:hasAccessNeedGroup <http://example.com/needs> ;\\n  interop:hasDataGrant\\n    pod-grants:123,pod-grants:456 .'"
      ]
     },
     "execution_count": 12,
     "metadata": {},
     "output_type": "execute_result"
    }
   ],
   "source": [
    "getAccessGrant('http://example.com', ['123', '456'])"
   ]
  },
  {
   "cell_type": "code",
   "execution_count": 13,
   "metadata": {},
   "outputs": [
    {
     "data": {
      "text/plain": [
       "'@prefix interop: <http://www.w3.org/ns/solid/interop#>.\\n@prefix pod-grants: <{{podBaseUrl}}registries/authorizations/>.\\n@prefix pod-data: <{{podBaseUrl}}data/>.\\n@prefix solidtrees: <https://thundr.be/experiments/interop/trees/>.\\n@prefix acl: <http://www.w3.org/ns/auth/acl#>.\\n\\n<>\\n  a interop:DataGrant ;\\n  interop:dataOwner <{{webId}}> ;\\n  interop:grantee <https://example.org/id> ;\\n  interop:registeredShapeTree solidtrees:Task.ttl ;\\n  interop:hasDataRegistration  pod-data:123\\\\/;\\n  interop:satisfiesAccessNeed <http://example.com/needs#1> ;\\n  interop:accessMode acl:Read, acl:Create, acl:Append, acl:Delete ;\\n  interop:scopeOfGrant interop:AllFromRegistry .\\n    '"
      ]
     },
     "execution_count": 13,
     "metadata": {},
     "output_type": "execute_result"
    }
   ],
   "source": [
    "getAllFromRegistryDataGrant('http://example.com', '123')"
   ]
  },
  {
   "cell_type": "code",
   "execution_count": 14,
   "metadata": {},
   "outputs": [
    {
     "data": {
      "text/plain": [
       "'@prefix interop: <http://www.w3.org/ns/solid/interop#>.\\n@prefix pod-data: <{{podBaseUrl}}data/>.\\n@prefix pod: <{{podBaseUrl}}>.\\n\\npod:registries\\\\/data\\\\/index\\n  interop:hasDataRegistration pod-data:123\\\\/,pod-data:456\\\\/;\\n  a interop:DataRegistry .\\n    '"
      ]
     },
     "execution_count": 14,
     "metadata": {},
     "output_type": "execute_result"
    }
   ],
   "source": [
    "getDataRegistry(['123', '456'])"
   ]
  },
  {
   "cell_type": "code",
   "execution_count": 15,
   "metadata": {},
   "outputs": [
    {
     "data": {
      "text/plain": [
       "'@prefix interop: <http://www.w3.org/ns/solid/interop#>.\\n@prefix pod: <{{podBaseUrl}}>.\\n\\npod:registries\\\\/authorizations\\\\/index\\n  a interop:AuthorizationRegistry .'"
      ]
     },
     "execution_count": 15,
     "metadata": {},
     "output_type": "execute_result"
    }
   ],
   "source": [
    "getAuthorizationRegistry()"
   ]
  },
  {
   "cell_type": "code",
   "execution_count": 16,
   "metadata": {},
   "outputs": [
    {
     "data": {
      "text/plain": [
       "'@prefix interop: <http://www.w3.org/ns/solid/interop#>.\\n@prefix pod-agents: <{{podBaseUrl}}registries/agents/>.\\n\\npod-agents:index\\n  interop:hasSocialAgentRegistration pod-agents:123;\\n  interop:hasApplicationRegistration pod-agents:456;\\n  a interop:AgentRegistry .'"
      ]
     },
     "execution_count": 16,
     "metadata": {},
     "output_type": "execute_result"
    }
   ],
   "source": [
    "getAgentRegistry(['123'], ['456'])"
   ]
  },
  {
   "cell_type": "code",
   "execution_count": 17,
   "metadata": {},
   "outputs": [
    {
     "data": {
      "text/plain": [
       "'PREFIX rdfs: <http://www.w3.org/2000/01/rdf-schema#>\\nPREFIX pm: <https://vocab.example/project-management/>\\n\\n<#task>\\n  a pm:Task ;\\n  rdfs:label \"Clean my room.\" .'"
      ]
     },
     "execution_count": 17,
     "metadata": {},
     "output_type": "execute_result"
    }
   ],
   "source": [
    "getTask()"
   ]
  },
  {
   "cell_type": "code",
   "execution_count": 18,
   "metadata": {},
   "outputs": [],
   "source": [
    "def generateDataRegistrations(path, amount, instances):\n",
    "    import uuid\n",
    "    import os\n",
    "    res = [uuid.uuid4() for _ in range(amount)]  # List of registration IDs\n",
    "    # Generate (amount) new directories\n",
    "    # In each directory, store a .meta.hbs\n",
    "    # In each directory, store instances new tasks\n",
    "    for uid in res:\n",
    "        filename = f'{path}/{uid}/.meta.hbs'\n",
    "        os.makedirs(os.path.dirname(filename), exist_ok=True)\n",
    "        with open(filename, \"w\") as f:\n",
    "            f.write(getTaskRegistrationMeta())\n",
    "        for _ in range(instances):\n",
    "            with open(f'{path}/{uid}/{uuid.uuid4()}$.ttl.hbs', \"w\") as f:\n",
    "                f.write(getTask())\n",
    "    return res"
   ]
  },
  {
   "cell_type": "code",
   "execution_count": 19,
   "metadata": {},
   "outputs": [],
   "source": [
    "def generateRegistrySet(path, agents, registrations, instances):\n",
    "    import uuid\n",
    "    import os\n",
    "    res = generateDataRegistrations(f'{path}/data', registrations, instances)  # List of data registration IDs\n",
    "\n",
    "    # Write registry set\n",
    "    filename = f'{path}/registries/index$.ttl.hbs'\n",
    "    os.makedirs(os.path.dirname(filename), exist_ok=True)\n",
    "    with open(filename, \"w\") as f:\n",
    "        f.write(getRegistrySet())\n",
    "    \n",
    "    # Write Data Registration\n",
    "    filename = f'{path}/registries/data/index$.ttl.hbs'\n",
    "    os.makedirs(os.path.dirname(filename), exist_ok=True)\n",
    "    with open(filename, \"w\") as f:\n",
    "        f.write(getDataRegistry(res))\n",
    "\n",
    "    # Write Data Registration\n",
    "    filename = f'{path}/registries/authorizations/index$.ttl.hbs'\n",
    "    os.makedirs(os.path.dirname(filename), exist_ok=True)\n",
    "    with open(filename, \"w\") as f:\n",
    "        f.write(getAuthorizationRegistry())\n",
    "\n",
    "    # Generate agent authorizations\n",
    "    agentRegistrationIds = []\n",
    "\n",
    "    for i in range(agents):\n",
    "        webid = f'https://example.org/{i}'\n",
    "\n",
    "        # Generate Data Grants\n",
    "        grants = []\n",
    "        for uid in res:\n",
    "            grant = uuid.uuid4()\n",
    "            filename = f'{path}/registries/authorizations/{grant}$.ttl.hbs'\n",
    "            os.makedirs(os.path.dirname(filename), exist_ok=True)\n",
    "            with open(filename, \"w\") as f:\n",
    "                f.write(getAllFromRegistryDataGrant(webid, uid))\n",
    "            grants.append(grant)\n",
    "            \n",
    "\n",
    "        # Generate Access Grant\n",
    "        grant = uuid.uuid4()\n",
    "        filename = f'{path}/registries/authorizations/{grant}$.ttl.hbs'\n",
    "        os.makedirs(os.path.dirname(filename), exist_ok=True)\n",
    "        with open(filename, \"w\") as f:\n",
    "            f.write(getAccessGrant(webid, grants))\n",
    "\n",
    "        # Generate Agent Registration\n",
    "        registrationId = uuid.uuid4()\n",
    "        agentRegistrationIds.append(registrationId)\n",
    "        filename = f'{path}/registries/agents/{registrationId}$.ttl.hbs'\n",
    "        os.makedirs(os.path.dirname(filename), exist_ok=True)\n",
    "        with open(filename, \"w\") as f:\n",
    "            f.write(getAgentRegistration(webid, grant))\n",
    "    \n",
    "    # Generate application authorizations\n",
    "    appRegistrationIds = []\n",
    "    for i in range(agents):\n",
    "        webid = f'https://example.org/app/{i}'\n",
    "\n",
    "        # Generate Data Grants\n",
    "        grants = []\n",
    "        for uid in res:\n",
    "            grant = uuid.uuid4()\n",
    "            filename = f'{path}/registries/authorizations/{grant}$.ttl.hbs'\n",
    "            os.makedirs(os.path.dirname(filename), exist_ok=True)\n",
    "            with open(filename, \"w\") as f:\n",
    "                f.write(getAllFromRegistryDataGrant(webid, uid))\n",
    "            grants.append(grant)\n",
    "            \n",
    "\n",
    "        # Generate Access Grant\n",
    "        grant = uuid.uuid4()\n",
    "        filename = f'{path}/registries/authorizations/{grant}$.ttl.hbs'\n",
    "        os.makedirs(os.path.dirname(filename), exist_ok=True)\n",
    "        with open(filename, \"w\") as f:\n",
    "            f.write(getAccessGrant(webid, grants))\n",
    "\n",
    "        # Generate Agent Registration\n",
    "        registrationId = uuid.uuid4()\n",
    "        appRegistrationIds.append(registrationId)\n",
    "        filename = f'{path}/registries/agents/{registrationId}$.ttl.hbs'\n",
    "        os.makedirs(os.path.dirname(filename), exist_ok=True)\n",
    "        with open(filename, \"w\") as f:\n",
    "            f.write(getApplicationRegistration(webid, grant))\n",
    "\n",
    "    filename = f'{path}/registries/agents/index$.ttl.hbs'\n",
    "    os.makedirs(os.path.dirname(filename), exist_ok=True)\n",
    "    with open(filename, \"w\") as f:\n",
    "        f.write(getAgentRegistry(agentRegistrationIds, appRegistrationIds))\n",
    "    return res"
   ]
  },
  {
   "cell_type": "code",
   "execution_count": 21,
   "metadata": {},
   "outputs": [
    {
     "data": {
      "text/plain": [
       "[UUID('7caed37e-9739-4cb5-93e0-7e107bedc812'),\n",
       " UUID('12dd17e7-d1e8-4a54-8c01-e59b47888e69'),\n",
       " UUID('a00347cc-bce8-4ce4-89ac-b2bf5999cd1d'),\n",
       " UUID('e1f8f2df-22b0-4288-baf2-32bd37e93afc'),\n",
       " UUID('8825de6e-93c7-418e-a88c-acf56a0b3a98'),\n",
       " UUID('c1f6c9f6-69aa-4a80-a928-3914902b7276'),\n",
       " UUID('d38d330b-5d71-4c1d-adaa-b8f7429a9fe9'),\n",
       " UUID('f5349017-869e-4e51-83a2-36dab769fef8'),\n",
       " UUID('b50a6fe9-3f7e-4907-94cf-d1bc0b4a90b4'),\n",
       " UUID('7423716b-a7c1-4f2b-9581-19ef506b77e1'),\n",
       " UUID('94892ce9-548d-4c32-9a16-c5a6752dcbd5'),\n",
       " UUID('b0966078-df81-4ad5-9dd2-0a63ecbbbce0'),\n",
       " UUID('592f9e90-db30-4062-bb49-6de82f9204e2'),\n",
       " UUID('e8d922ad-c848-4eaf-8608-3293decfb75d'),\n",
       " UUID('8863f323-90a9-4de3-98a6-f74c5f31265a'),\n",
       " UUID('82ee2012-a91b-4fe2-84d9-6e1ada2d75c2'),\n",
       " UUID('f7b5f645-5e28-4989-9d0b-b60dd5dc53bf'),\n",
       " UUID('344f2622-f595-4477-a00d-2e515f389a88'),\n",
       " UUID('b1ac66a2-28a5-41d0-bba6-6a76340df7af'),\n",
       " UUID('1bfc7ee5-6301-4e23-851e-fb2eebd0481c'),\n",
       " UUID('6b2e8983-183c-4577-b930-788cd588123f'),\n",
       " UUID('f644a2c2-4a27-46be-8622-435557feb649'),\n",
       " UUID('6a170d60-4987-44bb-91f9-e44514c0d900'),\n",
       " UUID('97ea0b12-a85a-4f59-aece-64510488fb8e'),\n",
       " UUID('d0c88a49-93ed-4a01-b702-690823863f61'),\n",
       " UUID('d81c6740-686c-4866-a1b2-acb4cc62b40d'),\n",
       " UUID('8c5b2c22-c5f3-4bb6-adde-ac6882274569'),\n",
       " UUID('4c3cdcfd-c13d-49ec-b491-2f2f35a53136'),\n",
       " UUID('0a302db5-492e-41d8-b007-3658afbc74d0'),\n",
       " UUID('aafe13e0-ea20-4ab6-baac-bb3711636f06'),\n",
       " UUID('ec1f045a-c067-4dd8-b23e-1152366dd6f7'),\n",
       " UUID('6b19a320-8d9a-4d8d-8bfc-3da934171318'),\n",
       " UUID('7e36ead4-e6aa-4e3f-9522-96cad56193db'),\n",
       " UUID('e9308013-7569-4d9b-8600-f61169ac0839'),\n",
       " UUID('d41eaee4-fd73-4d53-a8c6-dea5664bb337'),\n",
       " UUID('1f82ab93-b3f6-4c2e-837f-8d2eb9c8d1d1'),\n",
       " UUID('be413061-655c-4f01-89a2-5ac1a103f849'),\n",
       " UUID('07e638ce-f66b-4c05-93fa-d47232898473'),\n",
       " UUID('b63f87b3-0a7b-4244-95ab-51362238d21a'),\n",
       " UUID('df6c2ea1-133a-4af1-ba66-a3e6f8f2e54f'),\n",
       " UUID('fb727b07-f047-4537-9a59-da6dd2e8742e'),\n",
       " UUID('0c16741a-9c20-444c-80a8-e12e5193d1bd'),\n",
       " UUID('d0fd5da6-9e91-40d1-a799-2c75b2acaca2'),\n",
       " UUID('57382c34-28e6-4aae-a0aa-6fee9ef1b3a9'),\n",
       " UUID('3ed2e529-4ea9-4c8e-9cca-88970eb588d7'),\n",
       " UUID('ac8b59bb-7fc3-4d98-8fbf-0a897f03f25d'),\n",
       " UUID('d09816e5-c713-4c4f-b409-001a94c20969'),\n",
       " UUID('6c3a85bf-13c0-442b-b05b-13c4b1317fe0'),\n",
       " UUID('98dc5fe7-529b-4e1a-a587-9074dd1bf5ae'),\n",
       " UUID('6bcb51a4-f43e-4093-a3ef-c9e26e2db5a4'),\n",
       " UUID('eec0b78c-2f41-41b7-9e26-7be3f490bb98'),\n",
       " UUID('661a8524-f30d-4eab-a60b-8f9177741063'),\n",
       " UUID('dfdb6467-0ad1-4f52-8adb-5766f90f63bc'),\n",
       " UUID('b6580f76-cde2-48c1-96af-c13dc5a308e0'),\n",
       " UUID('9796362b-4bb1-4144-8411-573b65ecbc9f'),\n",
       " UUID('ba066aa9-f123-45c1-b0d8-abe282e44c47'),\n",
       " UUID('a680d679-a433-415e-a9bd-9be7561f0a60'),\n",
       " UUID('5e823391-38e7-4f17-8bcc-96acf9a0f1fa'),\n",
       " UUID('351f9dc9-24a2-4494-93da-10060ad8aea1'),\n",
       " UUID('442ca4b4-b9dd-4d62-8f58-08fcde385689'),\n",
       " UUID('14c331f1-90e8-44b9-b492-f67c95199248'),\n",
       " UUID('c9e14060-60a5-4ca6-8d5e-d6f1811c02cf'),\n",
       " UUID('e7dc29d8-ad33-4111-80a3-a8e96895e24a'),\n",
       " UUID('f9d1b9a8-cd6f-4fa5-b8b0-a1086a50d2a9'),\n",
       " UUID('535c0a5b-b110-464b-a3a8-d0e95eb4d49f'),\n",
       " UUID('4e394647-7477-4b0c-af4b-03a2f4ffcfd7'),\n",
       " UUID('f81f8ccc-1d72-450f-b9a2-a45ffee91afd'),\n",
       " UUID('5fe0b69a-3261-4112-9ac7-8275673d3fb6'),\n",
       " UUID('16de7e9b-a2da-41c6-ae11-99a5f9f607ee'),\n",
       " UUID('24f909de-9195-4ab2-8afe-f6ccf6b8312f'),\n",
       " UUID('689001d9-39b1-4dd0-be29-c05d01d136d4'),\n",
       " UUID('a8b62a2f-9be0-4521-b575-6c09aaf17418'),\n",
       " UUID('5c62e1b1-3462-473e-9075-e0f02d753381'),\n",
       " UUID('6de58edd-3108-4f6b-badb-428f372e7f68'),\n",
       " UUID('acfd52b6-6bd1-41c5-88ac-837383ddc2a0'),\n",
       " UUID('76d4d844-1cfb-4cef-80f8-c0d0c27774a7'),\n",
       " UUID('ece0ebb4-324c-4092-9a51-c4e9cfc11d52'),\n",
       " UUID('5ce2fbb2-86de-4e2b-a579-bcab27aa659b'),\n",
       " UUID('daa516c6-54d0-4066-aa02-ee68bbb6a43a'),\n",
       " UUID('47edfb81-a754-4fd4-bffb-ab084ac499c7'),\n",
       " UUID('f35d61d3-9eae-4788-81e8-c2bedc0d5d35'),\n",
       " UUID('6238a1b2-d950-406b-9295-f75540e99349'),\n",
       " UUID('3108f204-f187-417b-bb46-cf9800e6da70'),\n",
       " UUID('8d9d011d-7b90-4e30-9a1d-be026cf2a366'),\n",
       " UUID('6c6b60fd-2479-4a52-aa43-4fc06e7f374e'),\n",
       " UUID('38d68f7f-20ac-4438-b619-9eef2f9c5f59'),\n",
       " UUID('024651b0-1003-42ab-8f60-8f120bd341d6'),\n",
       " UUID('2fdb67e5-203c-4bb1-971f-fef9aa90e80a'),\n",
       " UUID('08683544-7a24-4620-9386-61c553565163'),\n",
       " UUID('76bc78c2-bd0c-4942-9769-707c4fd1ae27'),\n",
       " UUID('d5926d8a-e493-4b1b-bfb6-5c0f63654b02'),\n",
       " UUID('d7e4edb1-d34a-470b-8586-5a773a7a2b2b'),\n",
       " UUID('8158d919-70da-42eb-999d-bc8576905f16'),\n",
       " UUID('24639638-c09c-455e-8b4c-7239bcd861f3'),\n",
       " UUID('1fe15df9-bd5b-4f00-affd-e66ce0deca5a'),\n",
       " UUID('01f7a817-5df9-47b7-8466-4f3dcdcfd40a'),\n",
       " UUID('565c9a6d-e001-4e7a-a484-7ede9d59e90d'),\n",
       " UUID('8a6eef99-ac7e-4cbc-8922-027420d0c1c2'),\n",
       " UUID('4c8871a0-8d44-4df6-810b-ed1164b60031'),\n",
       " UUID('bea7c6ec-979a-426e-8bda-9e240d9da0b3')]"
      ]
     },
     "execution_count": 21,
     "metadata": {},
     "output_type": "execute_result"
    }
   ],
   "source": [
    "generateRegistrySet('pod-50_100', 50, 100, 5)"
   ]
  },
  {
   "cell_type": "code",
   "execution_count": 23,
   "metadata": {},
   "outputs": [
    {
     "name": "stdout",
     "output_type": "stream",
     "text": [
      "{'content-type': 'text/plain', 'link': '<https://example.org/24>; anchor=\"http://localhost:3000/alice/registries/agents/fe409196-4f8d-436a-8ea0-d2ffd7503181\"; rel=\"http://www.w3.org/ns/solid/interop#registeredAgent\"', 'Date': 'Thu, 26 May 2022 08:04:31 GMT', 'Connection': 'keep-alive', 'Keep-Alive': 'timeout=5'}\n"
     ]
    }
   ],
   "source": [
    "import requests\n",
    "\n",
    "url = \"http://localhost:4001/aa/client/aHR0cDovL2xvY2FsaG9zdDozMDAwL2FsaWNlL3Byb2ZpbGUvY2FyZCNtZQ==\"\n",
    "\n",
    "payload={}\n",
    "headers = {\n",
    "  'Authorization': 'Bearer https%3A%2F%2Fexample.org%2F24:https%3A%2F%2Fexample.org%2Fapp%2F4'\n",
    "}\n",
    "\n",
    "response = requests.request(\"HEAD\", url, headers=headers, data=payload)\n",
    "\n",
    "print(response.headers)"
   ]
  },
  {
   "cell_type": "code",
   "execution_count": 25,
   "metadata": {},
   "outputs": [],
   "source": []
  },
  {
   "cell_type": "code",
   "execution_count": 110,
   "metadata": {},
   "outputs": [],
   "source": [
    "import pandas as pd \n",
    "df = pd.DataFrame({\"configuration\": [], \"time\": [], \"type\": []})"
   ]
  },
  {
   "cell_type": "code",
   "execution_count": 99,
   "metadata": {},
   "outputs": [],
   "source": [
    "# 10_10\n",
    "dummy_authn = 'https%3A%2F%2Fexample.org%2F9:https%3A%2F%2Fexample.org%2Fapp%2F4'\n",
    "config = '(10, 10)'\n",
    "registration = 'http://localhost:3000/alice/registries/agents/0c1570f7-f8ff-40f6-9410-b402071008ce'\n",
    "access_grant = 'http://localhost:3000/alice/registries/authorizations/a506f5a5-a042-4ca6-ad64-69d623c791cb'\n",
    "data_grant = 'http://localhost:3000/alice/registries/authorizations/17981d3e-1743-43ff-8c50-fad34ba04dec'\n",
    "data_registration = 'http://localhost:3000/alice/data/7dbb3717-2093-4504-b395-a1697b7d91ca/'\n",
    "data_instance = 'http://localhost:3000/alice/data/7dbb3717-2093-4504-b395-a1697b7d91ca/919250fd-0f99-4d77-90ce-87d3ba18a997'"
   ]
  },
  {
   "cell_type": "code",
   "execution_count": 116,
   "metadata": {},
   "outputs": [],
   "source": [
    "# 10_100\n",
    "dummy_authn = 'https%3A%2F%2Fexample.org%2F9:https%3A%2F%2Fexample.org%2Fapp%2F4'\n",
    "config = '(10, 100)'\n",
    "registration = 'http://localhost:3000/alice/registries/agents/ba70c64f-0edb-4a45-b851-d473e07e1c57'\n",
    "access_grant = 'http://localhost:3000/alice/registries/authorizations/bfda7063-0660-4d54-b547-339e4b22ae86'\n",
    "data_grant = 'http://localhost:3000/alice/registries/authorizations/98ef203c-0237-4083-9c59-aa3a22a6e4ca'\n",
    "data_registration = 'http://localhost:3000/alice/data/946b187f-173f-4139-a06b-44be1103405c/'\n",
    "data_instance = 'http://localhost:3000/alice/data/946b187f-173f-4139-a06b-44be1103405c/fa639ae7-e027-41fe-a676-781be07f81b4'"
   ]
  },
  {
   "cell_type": "code",
   "execution_count": 125,
   "metadata": {},
   "outputs": [],
   "source": [
    "# 50_10\n",
    "dummy_authn = 'https%3A%2F%2Fexample.org%2F24:https%3A%2F%2Fexample.org%2Fapp%2F4'\n",
    "config = '(50, 10)'\n",
    "\n",
    "registration = 'http://localhost:3000/alice/registries/agents/fe409196-4f8d-436a-8ea0-d2ffd7503181'\n",
    "access_grant = 'http://localhost:3000/alice/registries/authorizations/f2ed5a00-624e-4dff-8766-5b85a448b4bd'\n",
    "data_grant = 'http://localhost:3000/alice/registries/authorizations/8007dfd2-ba5c-4a93-b166-40ee6706b2e1'\n",
    "data_registration = 'http://localhost:3000/alice/data/32675898-00dd-45f6-af3d-9ee7dc6da820/'\n",
    "data_instance = 'http://localhost:3000/alice/data/32675898-00dd-45f6-af3d-9ee7dc6da820/ed1321bf-2aa5-4f42-a986-bc090fff0238'"
   ]
  },
  {
   "cell_type": "code",
   "execution_count": 131,
   "metadata": {},
   "outputs": [],
   "source": [
    "# 50_100\n",
    "dummy_authn = 'https%3A%2F%2Fexample.org%2F24:https%3A%2F%2Fexample.org%2Fapp%2F4'\n",
    "config = '(50, 100)'\n",
    "\n",
    "registration = 'http://localhost:3000/alice/registries/agents/4c92f89b-f418-414c-9748-e932ec492d1d'\n",
    "access_grant = 'http://localhost:3000/alice/registries/authorizations/d18d14f0-6e4c-465d-a4a7-bf99bdbc3936'\n",
    "data_grant = 'http://localhost:3000/alice/registries/authorizations/9a1ed460-2aad-431f-a0af-9d11faa873dc'\n",
    "data_registration = 'http://localhost:3000/alice/data/bea7c6ec-979a-426e-8bda-9e240d9da0b3/'\n",
    "data_instance = 'http://localhost:3000/alice/data/bea7c6ec-979a-426e-8bda-9e240d9da0b3/c4ad5428-a96b-45b3-924c-331fb4858ec4'"
   ]
  },
  {
   "cell_type": "code",
   "execution_count": 134,
   "metadata": {},
   "outputs": [
    {
     "data": {
      "text/plain": [
       "datetime.timedelta(seconds=20, microseconds=184756)"
      ]
     },
     "execution_count": 134,
     "metadata": {},
     "output_type": "execute_result"
    }
   ],
   "source": [
    "# Retrieve resource\n",
    "# Use ticket to call UMA AS\n",
    "# Add elapsed time to \n",
    "def time_uma_as(url):\n",
    "    # Call get on resource\n",
    "    # Parse ticket from header\n",
    "    # Call token endpoint\n",
    "    # Return elapsed time\n",
    "    import requests\n",
    "    import urllib\n",
    "\n",
    "    response = requests.request(\"GET\", url, headers={}, data={})\n",
    "\n",
    "    ticket = response.headers['WWW-Authenticate'].split(',')[2][8:-1]\n",
    "\n",
    "\n",
    "    as_token_url = \"http://localhost:4000/uma/token\"\n",
    "    f = { 'grant_type' : 'urn:ietf:params:oauth:grant-type:uma-ticket', 'ticket' : ticket, 'claim_token': dummy_authn, 'claim_token_format': 'urn:authorization-agent:dummy-token'}\n",
    "\n",
    "    payload=urllib.parse.urlencode(f)\n",
    "    headers = {\n",
    "    'Content-Type': 'application/x-www-form-urlencoded'\n",
    "    }\n",
    "\n",
    "    response = requests.request(\"POST\", as_token_url, headers=headers, data=payload)\n",
    "\n",
    "    return response.elapsed\n",
    "time_uma_as(registration)"
   ]
  },
  {
   "cell_type": "code",
   "execution_count": 135,
   "metadata": {},
   "outputs": [
    {
     "name": "stderr",
     "output_type": "stream",
     "text": [
      "100%|██████████| 250/250 [02:43<00:00,  1.53it/s]\n",
      "100%|██████████| 250/250 [02:44<00:00,  1.52it/s]\n",
      "100%|██████████| 250/250 [02:38<00:00,  1.57it/s]\n",
      "100%|██████████| 250/250 [02:39<00:00,  1.56it/s]\n",
      "100%|██████████| 250/250 [04:28<00:00,  1.07s/it]\n"
     ]
    }
   ],
   "source": [
    "def time_all():\n",
    "    import tqdm\n",
    "    its = 250\n",
    "    data = {\n",
    "    \"time\": [],\n",
    "    \"type\": [],\n",
    "    }\n",
    "    for (label, uri) in [('Agent Registration', registration),('Access Grant',access_grant),('Data Grant', data_grant),('Data Registration', data_registration),('Data Instance', data_instance)]:\n",
    "        for _ in tqdm.tqdm(range(its)):\n",
    "            data[\"time\"].append(time_uma_as(uri).total_seconds() * 1000)\n",
    "            data[\"type\"].append(label)\n",
    "    return data\n",
    "\n",
    "res = time_all()\n"
   ]
  },
  {
   "cell_type": "code",
   "execution_count": 136,
   "metadata": {},
   "outputs": [
    {
     "data": {
      "text/html": [
       "<div>\n",
       "<style scoped>\n",
       "    .dataframe tbody tr th:only-of-type {\n",
       "        vertical-align: middle;\n",
       "    }\n",
       "\n",
       "    .dataframe tbody tr th {\n",
       "        vertical-align: top;\n",
       "    }\n",
       "\n",
       "    .dataframe thead th {\n",
       "        text-align: right;\n",
       "    }\n",
       "</style>\n",
       "<table border=\"1\" class=\"dataframe\">\n",
       "  <thead>\n",
       "    <tr style=\"text-align: right;\">\n",
       "      <th></th>\n",
       "      <th>time</th>\n",
       "      <th>type</th>\n",
       "      <th>configuration</th>\n",
       "    </tr>\n",
       "  </thead>\n",
       "  <tbody>\n",
       "    <tr>\n",
       "      <th>0</th>\n",
       "      <td>393.750</td>\n",
       "      <td>Agent Registration</td>\n",
       "      <td>(50, 100)</td>\n",
       "    </tr>\n",
       "    <tr>\n",
       "      <th>1</th>\n",
       "      <td>459.612</td>\n",
       "      <td>Agent Registration</td>\n",
       "      <td>(50, 100)</td>\n",
       "    </tr>\n",
       "    <tr>\n",
       "      <th>2</th>\n",
       "      <td>666.298</td>\n",
       "      <td>Agent Registration</td>\n",
       "      <td>(50, 100)</td>\n",
       "    </tr>\n",
       "    <tr>\n",
       "      <th>3</th>\n",
       "      <td>671.473</td>\n",
       "      <td>Agent Registration</td>\n",
       "      <td>(50, 100)</td>\n",
       "    </tr>\n",
       "    <tr>\n",
       "      <th>4</th>\n",
       "      <td>613.367</td>\n",
       "      <td>Agent Registration</td>\n",
       "      <td>(50, 100)</td>\n",
       "    </tr>\n",
       "    <tr>\n",
       "      <th>...</th>\n",
       "      <td>...</td>\n",
       "      <td>...</td>\n",
       "      <td>...</td>\n",
       "    </tr>\n",
       "    <tr>\n",
       "      <th>1245</th>\n",
       "      <td>1065.379</td>\n",
       "      <td>Data Instance</td>\n",
       "      <td>(50, 100)</td>\n",
       "    </tr>\n",
       "    <tr>\n",
       "      <th>1246</th>\n",
       "      <td>1029.849</td>\n",
       "      <td>Data Instance</td>\n",
       "      <td>(50, 100)</td>\n",
       "    </tr>\n",
       "    <tr>\n",
       "      <th>1247</th>\n",
       "      <td>994.137</td>\n",
       "      <td>Data Instance</td>\n",
       "      <td>(50, 100)</td>\n",
       "    </tr>\n",
       "    <tr>\n",
       "      <th>1248</th>\n",
       "      <td>1038.911</td>\n",
       "      <td>Data Instance</td>\n",
       "      <td>(50, 100)</td>\n",
       "    </tr>\n",
       "    <tr>\n",
       "      <th>1249</th>\n",
       "      <td>996.223</td>\n",
       "      <td>Data Instance</td>\n",
       "      <td>(50, 100)</td>\n",
       "    </tr>\n",
       "  </tbody>\n",
       "</table>\n",
       "<p>1250 rows × 3 columns</p>\n",
       "</div>"
      ],
      "text/plain": [
       "          time                type configuration\n",
       "0      393.750  Agent Registration     (50, 100)\n",
       "1      459.612  Agent Registration     (50, 100)\n",
       "2      666.298  Agent Registration     (50, 100)\n",
       "3      671.473  Agent Registration     (50, 100)\n",
       "4      613.367  Agent Registration     (50, 100)\n",
       "...        ...                 ...           ...\n",
       "1245  1065.379       Data Instance     (50, 100)\n",
       "1246  1029.849       Data Instance     (50, 100)\n",
       "1247   994.137       Data Instance     (50, 100)\n",
       "1248  1038.911       Data Instance     (50, 100)\n",
       "1249   996.223       Data Instance     (50, 100)\n",
       "\n",
       "[1250 rows x 3 columns]"
      ]
     },
     "execution_count": 136,
     "metadata": {},
     "output_type": "execute_result"
    }
   ],
   "source": [
    "\n",
    "#load data into a DataFrame object:\n",
    "df_temp = pd.DataFrame(res)\n",
    "df_temp['configuration'] = config\n",
    "df_temp"
   ]
  },
  {
   "cell_type": "code",
   "execution_count": 137,
   "metadata": {},
   "outputs": [
    {
     "data": {
      "text/html": [
       "<div>\n",
       "<style scoped>\n",
       "    .dataframe tbody tr th:only-of-type {\n",
       "        vertical-align: middle;\n",
       "    }\n",
       "\n",
       "    .dataframe tbody tr th {\n",
       "        vertical-align: top;\n",
       "    }\n",
       "\n",
       "    .dataframe thead th {\n",
       "        text-align: right;\n",
       "    }\n",
       "</style>\n",
       "<table border=\"1\" class=\"dataframe\">\n",
       "  <thead>\n",
       "    <tr style=\"text-align: right;\">\n",
       "      <th></th>\n",
       "      <th>configuration</th>\n",
       "      <th>time</th>\n",
       "      <th>type</th>\n",
       "    </tr>\n",
       "  </thead>\n",
       "  <tbody>\n",
       "    <tr>\n",
       "      <th>0</th>\n",
       "      <td>(10, 10)</td>\n",
       "      <td>1590.800</td>\n",
       "      <td>Agent Registration</td>\n",
       "    </tr>\n",
       "    <tr>\n",
       "      <th>1</th>\n",
       "      <td>(10, 10)</td>\n",
       "      <td>172.783</td>\n",
       "      <td>Agent Registration</td>\n",
       "    </tr>\n",
       "    <tr>\n",
       "      <th>2</th>\n",
       "      <td>(10, 10)</td>\n",
       "      <td>185.972</td>\n",
       "      <td>Agent Registration</td>\n",
       "    </tr>\n",
       "    <tr>\n",
       "      <th>3</th>\n",
       "      <td>(10, 10)</td>\n",
       "      <td>183.497</td>\n",
       "      <td>Agent Registration</td>\n",
       "    </tr>\n",
       "    <tr>\n",
       "      <th>4</th>\n",
       "      <td>(10, 10)</td>\n",
       "      <td>166.466</td>\n",
       "      <td>Agent Registration</td>\n",
       "    </tr>\n",
       "    <tr>\n",
       "      <th>...</th>\n",
       "      <td>...</td>\n",
       "      <td>...</td>\n",
       "      <td>...</td>\n",
       "    </tr>\n",
       "    <tr>\n",
       "      <th>1245</th>\n",
       "      <td>(50, 100)</td>\n",
       "      <td>1065.379</td>\n",
       "      <td>Data Instance</td>\n",
       "    </tr>\n",
       "    <tr>\n",
       "      <th>1246</th>\n",
       "      <td>(50, 100)</td>\n",
       "      <td>1029.849</td>\n",
       "      <td>Data Instance</td>\n",
       "    </tr>\n",
       "    <tr>\n",
       "      <th>1247</th>\n",
       "      <td>(50, 100)</td>\n",
       "      <td>994.137</td>\n",
       "      <td>Data Instance</td>\n",
       "    </tr>\n",
       "    <tr>\n",
       "      <th>1248</th>\n",
       "      <td>(50, 100)</td>\n",
       "      <td>1038.911</td>\n",
       "      <td>Data Instance</td>\n",
       "    </tr>\n",
       "    <tr>\n",
       "      <th>1249</th>\n",
       "      <td>(50, 100)</td>\n",
       "      <td>996.223</td>\n",
       "      <td>Data Instance</td>\n",
       "    </tr>\n",
       "  </tbody>\n",
       "</table>\n",
       "<p>5000 rows × 3 columns</p>\n",
       "</div>"
      ],
      "text/plain": [
       "     configuration      time                type\n",
       "0         (10, 10)  1590.800  Agent Registration\n",
       "1         (10, 10)   172.783  Agent Registration\n",
       "2         (10, 10)   185.972  Agent Registration\n",
       "3         (10, 10)   183.497  Agent Registration\n",
       "4         (10, 10)   166.466  Agent Registration\n",
       "...            ...       ...                 ...\n",
       "1245     (50, 100)  1065.379       Data Instance\n",
       "1246     (50, 100)  1029.849       Data Instance\n",
       "1247     (50, 100)   994.137       Data Instance\n",
       "1248     (50, 100)  1038.911       Data Instance\n",
       "1249     (50, 100)   996.223       Data Instance\n",
       "\n",
       "[5000 rows x 3 columns]"
      ]
     },
     "execution_count": 137,
     "metadata": {},
     "output_type": "execute_result"
    }
   ],
   "source": [
    "df = pd.concat([df, df_temp])\n",
    "df"
   ]
  },
  {
   "cell_type": "code",
   "execution_count": 209,
   "metadata": {},
   "outputs": [
    {
     "data": {
      "image/png": "[encoded data removed]",
      "text/plain": [
       "<Figure size 720x720 with 1 Axes>"
      ]
     },
     "metadata": {},
     "output_type": "display_data"
    }
   ],
   "source": [
    "import seaborn as sns\n",
    "import matplotlib.pyplot as plt\n",
    "import numpy as np\n",
    "from matplotlib import rcParams\n",
    "\n",
    "rcParams['font.family'] = 'sans-serif'\n",
    "rcParams['font.sans-serif'] = ['Calibri']\n",
    "sns.set_theme()\n",
    "g = sns.catplot(x=\"type\", y=\"time\", hue=\"configuration\",\n",
    "                   data=df, kind=\"bar\",\n",
    "                   height=10, palette=\"muted\", legend=False)\n",
    "\n",
    "plt.title('Response Time of the UMA Authorization Service', fontweight='bold', fontsize=16)\n",
    "legend = plt.legend()\n",
    "legend.set_title(\"Pod Template\")\n",
    "mapping = {\"(10, 10)\": \"20 Agent Registrations with 10 Data Grants\",\n",
    "\"(10, 100)\": \"20 Agent Registrations with 100 Data Grants\",\n",
    "\"(50, 10)\": \"100 Agent Registrations with 10 Data Grants\",\n",
    "\"(50, 100)\": \"100 Agent Registrations with 100 Data Grants\",\n",
    "}\n",
    "for t in legend.texts:\n",
    "    t.set_text(mapping[t.get_text()])\n",
    "\n",
    "g.set_ylabels(\"Response Time (milliseconds)\", fontweight='bold')\n",
    "g.set_xlabels(\"Resource Type\", fontweight='bold')\n",
    "\n",
    "start, end = g.ax.get_ylim()\n",
    "g.ax.yaxis.set_ticks(np.arange(start, end, 50))\n",
    "\n",
    "plt.annotate('Data collected over 250 requests', (0,0), (-80,-30), fontsize=10, \n",
    "             xycoords='axes fraction', textcoords='offset points', va='top')\n",
    "plt.tight_layout()\n",
    "plt.savefig(\"plots.pdf\")"
   ]
  },
  {
   "cell_type": "code",
   "execution_count": 200,
   "metadata": {},
   "outputs": [],
   "source": [
    "fig = g.figure\n",
    "fig.savefig(\"plots.pdf\")"
   ]
  },
  {
   "cell_type": "code",
   "execution_count": 139,
   "metadata": {},
   "outputs": [],
   "source": [
    "df.to_csv('results.csv')"
   ]
  },
  {
   "cell_type": "code",
   "execution_count": null,
   "metadata": {},
   "outputs": [],
   "source": []
  }
 ],
 "metadata": {
  "interpreter": {
   "hash": "b0fa6594d8f4cbf19f97940f81e996739fb7646882a419484c72d19e05852a7e"
  },
  "kernelspec": {
   "display_name": "Python 3.9.10 64-bit",
   "language": "python",
   "name": "python3"
  },
  "language_info": {
   "codemirror_mode": {
    "name": "ipython",
    "version": 3
   },
   "file_extension": ".py",
   "mimetype": "text/x-python",
   "name": "python",
   "nbconvert_exporter": "python",
   "pygments_lexer": "ipython3",
   "version": "3.9.10"
  },
  "orig_nbformat": 4
 },
 "nbformat": 4,
 "nbformat_minor": 2
}
