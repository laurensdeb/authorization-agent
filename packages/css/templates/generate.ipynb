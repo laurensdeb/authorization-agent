{
 "cells": [
  {
   "cell_type": "code",
   "execution_count": 69,
   "metadata": {},
   "outputs": [],
   "source": [
    "def getAgentRegistration(agent, accessGrantId):\n",
    "    import datetime\n",
    "    return '''@prefix interop: <http://www.w3.org/ns/solid/interop#>.\n",
    "    @prefix xsd: <http://www.w3.org/2001/XMLSchema#>.\n",
    "    @prefix pod-agents: <{{{{podBaseUrl}}}}registries/agents/>.\n",
    "    @prefix pod-grants: <{{{{podBaseUrl}}}}registries/authorizations/>.\n",
    "    <>\n",
    "    a interop:SocialAgentRegistration ;\n",
    "    interop:registeredBy <{{{{webId}}}}> ;\n",
    "    interop:registeredWith <{{{{authorizationAgent}}}}> ;\n",
    "    interop:registeredAt \"{dateTime}\"^^xsd:dateTime ;\n",
    "    interop:updatedAt \"{dateTime}\"^^xsd:dateTime ;\n",
    "    interop:registeredAgent <{agent}> ;\n",
    "    interop:hasAccessGrant pod-grants:{accessGrantId} .'''.format(agent=agent,accessGrantId=accessGrantId,dateTime=datetime.datetime.now().isoformat())"
   ]
  },
  {
   "cell_type": "code",
   "execution_count": 70,
   "metadata": {},
   "outputs": [],
   "source": [
    "def getApplicationRegistration(application, accessGrantId):\n",
    "    import datetime\n",
    "    return '''@prefix interop: <http://www.w3.org/ns/solid/interop#>.\n",
    "    @prefix xsd: <http://www.w3.org/2001/XMLSchema#>.\n",
    "    @prefix pod-agents: <{{{{podBaseUrl}}}}registries/agents/>.\n",
    "    @prefix pod-grants: <{{{{podBaseUrl}}}}registries/authorizations/>.\n",
    "    <>\n",
    "    a interop:ApplicationRegistration ;\n",
    "    interop:registeredBy <{{{{webId}}}}> ;\n",
    "    interop:registeredWith <{{{{authorizationAgent}}}}> ;\n",
    "    interop:registeredAt \"{dateTime}\"^^xsd:dateTime ;\n",
    "    interop:updatedAt \"{dateTime}\"^^xsd:dateTime ;\n",
    "    interop:registeredAgent <{app}> ;\n",
    "    interop:hasAccessGrant pod-grants:{accessGrantId} .'''.format(app=application,accessGrantId=accessGrantId,dateTime=datetime.datetime.now().isoformat())"
   ]
  },
  {
   "cell_type": "code",
   "execution_count": 22,
   "metadata": {},
   "outputs": [],
   "source": [
    "def getAccessGrant(agent, dataGrantIds):\n",
    "    return '''@prefix interop: <http://www.w3.org/ns/solid/interop#>.\n",
    "@prefix xsd: <http://www.w3.org/2001/XMLSchema#>.\n",
    "@prefix pod-grants: <{{{{podBaseUrl}}}}registries/authorizations/>.\n",
    "<>\n",
    "  a interop:AccessGrant ;\n",
    "  interop:grantedBy <{{{{webId}}}}> ;\n",
    "  interop:grantedAt \"2020-04-04T20:15:47.000Z\"^^xsd:dateTime ;\n",
    "  interop:grantee <{agent}> ;\n",
    "  interop:hasAccessNeedGroup <{agent}/needs> ;\n",
    "  interop:hasDataGrant\n",
    "    {dataGrants} .'''.format(agent=agent,dataGrants=','.join([f'pod-grants:{x}' for x in dataGrantIds]))"
   ]
  },
  {
   "cell_type": "code",
   "execution_count": 25,
   "metadata": {},
   "outputs": [],
   "source": [
    "def getAllFromRegistryDataGrant(agent, registrationId, shapeTree=\"solidtrees:Task.ttl\"): \n",
    "    return '''@prefix interop: <http://www.w3.org/ns/solid/interop#>.\n",
    "@prefix pod-grants: <{{{{podBaseUrl}}}}registries/authorizations/>.\n",
    "@prefix pod-data: <{{{{podBaseUrl}}}}data/>.\n",
    "@prefix solidtrees: <https://thundr.be/experiments/interop/trees/>.\n",
    "@prefix acl: <http://www.w3.org/ns/auth/acl#>.\n",
    "\n",
    "<>\n",
    "  a interop:DataGrant ;\n",
    "  interop:dataOwner <{{{{webId}}}}> ;\n",
    "  interop:grantee <https://example.org/id> ;\n",
    "  interop:registeredShapeTree {shapeTree} ;\n",
    "  interop:hasDataRegistration  pod-data:{registrationId}\\/;\n",
    "  interop:satisfiesAccessNeed <{agent}/needs#1> ;\n",
    "  interop:accessMode acl:Read, acl:Create, acl:Append, acl:Delete ;\n",
    "  interop:scopeOfGrant interop:AllFromRegistry .\n",
    "    '''.format(agent=agent, registrationId=registrationId, shapeTree=shapeTree)"
   ]
  },
  {
   "cell_type": "code",
   "execution_count": 66,
   "metadata": {},
   "outputs": [],
   "source": [
    "def getDataRegistry(registrationIds):\n",
    "    return '''@prefix interop: <http://www.w3.org/ns/solid/interop#>.\n",
    "@prefix pod-data: <{{{{podBaseUrl}}}}data/>.\n",
    "@prefix pod: <{{{{podBaseUrl}}}}>.\n",
    "\n",
    "pod:registries\\/data\\/index\n",
    "  interop:hasDataRegistration {registrations};\n",
    "  a interop:DataRegistry .\n",
    "    '''.format(registrations=','.join([f'pod-data:{x}\\/' for x in registrationIds]))"
   ]
  },
  {
   "cell_type": "code",
   "execution_count": 29,
   "metadata": {},
   "outputs": [],
   "source": [
    "def getAuthorizationRegistry():\n",
    "    return '''@prefix interop: <http://www.w3.org/ns/solid/interop#>.\n",
    "@prefix pod: <{{podBaseUrl}}>.\n",
    "\n",
    "pod:registries\\/authorizations\\/index\n",
    "  a interop:AuthorizationRegistry .'''"
   ]
  },
  {
   "cell_type": "code",
   "execution_count": 38,
   "metadata": {},
   "outputs": [],
   "source": [
    "def getAgentRegistry(agentRegistrationIds, applicationRegistrationIds):\n",
    "    return '''@prefix interop: <http://www.w3.org/ns/solid/interop#>.\n",
    "@prefix pod-agents: <{{{{podBaseUrl}}}}registries/agents/>.\n",
    "\n",
    "pod-agents:index\n",
    "  interop:hasSocialAgentRegistration {agentRegistrations};\n",
    "  interop:hasApplicationRegistration {appRegistrations};\n",
    "  a interop:AgentRegistry .'''.format(agentRegistrations=','.join([f'pod-agents:{x}' for x in agentRegistrationIds]),\n",
    "  appRegistrations=','.join([f'pod-agents:{x}' for x in applicationRegistrationIds]))"
   ]
  },
  {
   "cell_type": "code",
   "execution_count": 40,
   "metadata": {},
   "outputs": [],
   "source": [
    "def getRegistrySet():\n",
    "    return '''@prefix interop: <http://www.w3.org/ns/solid/interop#>.\n",
    "@prefix pod: <{{podBaseUrl}}>.\n",
    "\n",
    "<>\n",
    "  a interop:RegistrySet ;\n",
    "  interop:hasAgentRegistry pod:registries\\/agents\\/index ;\n",
    "  interop:hasAuthorizationRegistry pod:registries\\/authorizations\\/index ;\n",
    "  interop:hasDataRegistry pod:registries\\/data\\/index .'''"
   ]
  },
  {
   "cell_type": "code",
   "execution_count": 41,
   "metadata": {},
   "outputs": [],
   "source": [
    "def getTaskRegistrationMeta():\n",
    "    return '''PREFIX xsd: <http://www.w3.org/2001/XMLSchema#>\n",
    "PREFIX interop: <http://www.w3.org/ns/solid/interop#>\n",
    "PREFIX solidtrees: <https://thundr.be/experiments/interop/trees/>\n",
    "\n",
    "<>\n",
    "  a interop:DataRegistration ;\n",
    "  interop:registeredBy <{{webId}}> ;\n",
    "  interop:registeredWith <{{authorizationAgent}}> ;\n",
    "  interop:registeredAt \"2022-05-18T11:42:36.000Z\"^^xsd:dateTime ;\n",
    "  interop:registeredShapeTree solidtrees:Task.ttl .'''"
   ]
  },
  {
   "cell_type": "code",
   "execution_count": 46,
   "metadata": {},
   "outputs": [
    {
     "data": {
      "text/plain": [
       "'For the statistics only'"
      ]
     },
     "execution_count": 46,
     "metadata": {},
     "output_type": "execute_result"
    }
   ],
   "source": []
  },
  {
   "cell_type": "code",
   "execution_count": 73,
   "metadata": {},
   "outputs": [],
   "source": [
    "def getTask():\n",
    "  msg = \"Clean my room.\"\n",
    "  return '''PREFIX rdfs: <http://www.w3.org/2000/01/rdf-schema#>\n",
    "PREFIX pm: <https://vocab.example/project-management/>\n",
    "\n",
    "<#task>\n",
    "  a pm:Task ;\n",
    "  rdfs:label \"{msg}\" .'''.format(msg=msg)"
   ]
  },
  {
   "cell_type": "code",
   "execution_count": 23,
   "metadata": {},
   "outputs": [
    {
     "data": {
      "text/plain": [
       "'@prefix interop: <http://www.w3.org/ns/solid/interop#>.\\n    @prefix xsd: <http://www.w3.org/2001/XMLSchema#>.\\n    @prefix pod-agents: <{{podBaseUrl}}registries/agents/>.\\n    @prefix pod-grants: <{{podBaseUrl}}registries/authorizations/>.\\n    <>\\n    a interop:SocialAgentRegistration ;\\n    interop:registeredBy <{{webId}}> ;\\n    interop:registeredWith {authorizationAgent}> ;\\n    interop:registeredAt \"2022-05-18T12:28:24.502596\"^^xsd:dateTime ;\\n    interop:updatedAt \"2022-05-18T12:28:24.502596\"^^xsd:dateTime ;\\n    interop:registeredAgent <http://example.com> ;\\n    interop:hasAccessGrant pod-grants:123 .'"
      ]
     },
     "execution_count": 23,
     "metadata": {},
     "output_type": "execute_result"
    }
   ],
   "source": [
    "getAgentRegistration('http://example.com', '123')"
   ]
  },
  {
   "cell_type": "code",
   "execution_count": 24,
   "metadata": {},
   "outputs": [
    {
     "data": {
      "text/plain": [
       "'@prefix interop: <http://www.w3.org/ns/solid/interop#>.\\n@prefix xsd: <http://www.w3.org/2001/XMLSchema#>.\\n@prefix pod-grants: <{{podBaseUrl}}registries/authorizations/>.\\n<>\\n  a interop:AccessGrant ;\\n  interop:grantedBy <{{webId}}> ;\\n  interop:grantedAt \"2020-04-04T20:15:47.000Z\"^^xsd:dateTime ;\\n  interop:grantee <http://example.com> ;\\n  interop:hasAccessNeedGroup <http://example.com/needs> ;\\n  interop:hasDataGrant\\n    pod-grants:123,pod-grants:456 .'"
      ]
     },
     "execution_count": 24,
     "metadata": {},
     "output_type": "execute_result"
    }
   ],
   "source": [
    "getAccessGrant('http://example.com', ['123', '456'])"
   ]
  },
  {
   "cell_type": "code",
   "execution_count": 26,
   "metadata": {},
   "outputs": [
    {
     "data": {
      "text/plain": [
       "'@prefix interop: <http://www.w3.org/ns/solid/interop#>.\\n@prefix pod-grants: <{{podBaseUrl}}registries/authorizations/>.\\n@prefix pod-data: <{{podBaseUrl}}data/>.\\n@prefix solidtrees: <https://thundr.be/experiments/interop/trees/>.\\n@prefix acl: <http://www.w3.org/ns/auth/acl#>.\\n\\n<>\\n  a interop:DataGrant ;\\n  interop:dataOwner <{{webId}}> ;\\n  interop:grantee <https://example.org/id> ;\\n  interop:registeredShapeTree solidtrees:Task.ttl ;\\n  interop:hasDataRegistration  pod-data:123\\\\/;\\n  interop:satisfiesAccessNeed <http://example.com/needs#1> ;\\n  interop:accessMode acl:Read, acl:Create, acl:Append, acl:Delete ;\\n  interop:scopeOfGrant interop:AllFromRegistry .\\n    '"
      ]
     },
     "execution_count": 26,
     "metadata": {},
     "output_type": "execute_result"
    }
   ],
   "source": [
    "getAllFromRegistryDataGrant('http://example.com', '123')"
   ]
  },
  {
   "cell_type": "code",
   "execution_count": 28,
   "metadata": {},
   "outputs": [
    {
     "data": {
      "text/plain": [
       "'@prefix interop: <http://www.w3.org/ns/solid/interop#>.\\n@prefix pod: <{{podBaseUrl}}>.\\n\\npod:registries\\\\/data\\\\/index\\n  interop:hasDataRegistration pod-data:123\\\\/,pod-data:456\\\\/;\\n  a interop:DataRegistry .\\n    '"
      ]
     },
     "execution_count": 28,
     "metadata": {},
     "output_type": "execute_result"
    }
   ],
   "source": [
    "getDataRegistry(['123', '456'])"
   ]
  },
  {
   "cell_type": "code",
   "execution_count": 30,
   "metadata": {},
   "outputs": [
    {
     "data": {
      "text/plain": [
       "'@prefix interop: <http://www.w3.org/ns/solid/interop#>.\\n@prefix pod: <{{podBaseUrl}}>.\\n\\npod:registries\\\\/authorizations\\\\/index\\n  a interop:AuthorizationRegistry .'"
      ]
     },
     "execution_count": 30,
     "metadata": {},
     "output_type": "execute_result"
    }
   ],
   "source": [
    "getAuthorizationRegistry()"
   ]
  },
  {
   "cell_type": "code",
   "execution_count": 39,
   "metadata": {},
   "outputs": [
    {
     "data": {
      "text/plain": [
       "'@prefix interop: <http://www.w3.org/ns/solid/interop#>.\\n@prefix pod-agents: <{{podBaseUrl}}registries/agents/>.\\n\\npod-agents:index\\n  interop:hasSocialAgentRegistration pod-agents:123;\\n  interop:hasApplicationRegistration pod-agents:456;\\n  a interop:AgentRegistry .'"
      ]
     },
     "execution_count": 39,
     "metadata": {},
     "output_type": "execute_result"
    }
   ],
   "source": [
    "getAgentRegistry(['123'], ['456'])"
   ]
  },
  {
   "cell_type": "code",
   "execution_count": 48,
   "metadata": {},
   "outputs": [
    {
     "data": {
      "text/plain": [
       "'PREFIX rdfs: <http://www.w3.org/2000/01/rdf-schema#>\\nPREFIX pm: <https://vocab.example/project-management/>\\n\\n<#task>\\n  a pm:Task ;\\n  rdfs:label \"Copy pasta fail. still had a instead of a\" .'"
      ]
     },
     "execution_count": 48,
     "metadata": {},
     "output_type": "execute_result"
    }
   ],
   "source": [
    "getTask()"
   ]
  },
  {
   "cell_type": "code",
   "execution_count": 51,
   "metadata": {},
   "outputs": [],
   "source": [
    "def generateDataRegistrations(path, amount, instances):\n",
    "    import uuid\n",
    "    import os\n",
    "    res = [uuid.uuid4() for _ in range(amount)]  # List of registration IDs\n",
    "    # Generate (amount) new directories\n",
    "    # In each directory, store a .meta.hbs\n",
    "    # In each directory, store instances new tasks\n",
    "    for uid in res:\n",
    "        filename = f'{path}/{uid}/.meta.hbs'\n",
    "        os.makedirs(os.path.dirname(filename), exist_ok=True)\n",
    "        with open(filename, \"w\") as f:\n",
    "            f.write(getTaskRegistrationMeta())\n",
    "        for _ in range(instances):\n",
    "            with open(f'{path}/{uid}/{uuid.uuid4()}$.ttl.hbs', \"w\") as f:\n",
    "                f.write(getTask())\n",
    "    return res"
   ]
  },
  {
   "cell_type": "code",
   "execution_count": 67,
   "metadata": {},
   "outputs": [],
   "source": [
    "def generateRegistrySet(path, agents, registrations, instances):\n",
    "    import uuid\n",
    "    import os\n",
    "    res = generateDataRegistrations(f'{path}/data', registrations, instances)  # List of data registration IDs\n",
    "\n",
    "    # Write registry set\n",
    "    filename = f'{path}/registries/index$.ttl.hbs'\n",
    "    os.makedirs(os.path.dirname(filename), exist_ok=True)\n",
    "    with open(filename, \"w\") as f:\n",
    "        f.write(getRegistrySet())\n",
    "    \n",
    "    # Write Data Registration\n",
    "    filename = f'{path}/registries/data/index$.ttl.hbs'\n",
    "    os.makedirs(os.path.dirname(filename), exist_ok=True)\n",
    "    with open(filename, \"w\") as f:\n",
    "        f.write(getDataRegistry(res))\n",
    "\n",
    "    # Write Data Registration\n",
    "    filename = f'{path}/registries/authorizations/index$.ttl.hbs'\n",
    "    os.makedirs(os.path.dirname(filename), exist_ok=True)\n",
    "    with open(filename, \"w\") as f:\n",
    "        f.write(getAuthorizationRegistry())\n",
    "\n",
    "    # Generate agent authorizations\n",
    "    agentRegistrationIds = []\n",
    "\n",
    "    for i in range(agents):\n",
    "        webid = f'https://example.org/{i}'\n",
    "\n",
    "        # Generate Data Grants\n",
    "        grants = []\n",
    "        for uid in res:\n",
    "            grant = uuid.uuid4()\n",
    "            filename = f'{path}/registries/authorizations/{grant}$.ttl.hbs'\n",
    "            os.makedirs(os.path.dirname(filename), exist_ok=True)\n",
    "            with open(filename, \"w\") as f:\n",
    "                f.write(getAllFromRegistryDataGrant(webid, uid))\n",
    "            grants.append(grant)\n",
    "            \n",
    "\n",
    "        # Generate Access Grant\n",
    "        grant = uuid.uuid4()\n",
    "        filename = f'{path}/registries/authorizations/{grant}$.ttl.hbs'\n",
    "        os.makedirs(os.path.dirname(filename), exist_ok=True)\n",
    "        with open(filename, \"w\") as f:\n",
    "            f.write(getAccessGrant(webid, grants))\n",
    "\n",
    "        # Generate Agent Registration\n",
    "        registrationId = uuid.uuid4()\n",
    "        agentRegistrationIds.append(registrationId)\n",
    "        filename = f'{path}/registries/agents/{registrationId}$.ttl.hbs'\n",
    "        os.makedirs(os.path.dirname(filename), exist_ok=True)\n",
    "        with open(filename, \"w\") as f:\n",
    "            f.write(getAgentRegistration(webid, grant))\n",
    "    \n",
    "    # Generate application authorizations\n",
    "    appRegistrationIds = []\n",
    "    for i in range(agents):\n",
    "        webid = f'https://example.org/app/{i}'\n",
    "\n",
    "        # Generate Data Grants\n",
    "        grants = []\n",
    "        for uid in res:\n",
    "            grant = uuid.uuid4()\n",
    "            filename = f'{path}/registries/authorizations/{grant}$.ttl.hbs'\n",
    "            os.makedirs(os.path.dirname(filename), exist_ok=True)\n",
    "            with open(filename, \"w\") as f:\n",
    "                f.write(getAllFromRegistryDataGrant(webid, uid))\n",
    "            grants.append(grant)\n",
    "            \n",
    "\n",
    "        # Generate Access Grant\n",
    "        grant = uuid.uuid4()\n",
    "        filename = f'{path}/registries/authorizations/{grant}$.ttl.hbs'\n",
    "        os.makedirs(os.path.dirname(filename), exist_ok=True)\n",
    "        with open(filename, \"w\") as f:\n",
    "            f.write(getAccessGrant(webid, grants))\n",
    "\n",
    "        # Generate Agent Registration\n",
    "        registrationId = uuid.uuid4()\n",
    "        appRegistrationIds.append(registrationId)\n",
    "        filename = f'{path}/registries/agents/{registrationId}$.ttl.hbs'\n",
    "        os.makedirs(os.path.dirname(filename), exist_ok=True)\n",
    "        with open(filename, \"w\") as f:\n",
    "            f.write(getApplicationRegistration(webid, grant))\n",
    "\n",
    "    filename = f'{path}/registries/agents/index$.ttl.hbs'\n",
    "    os.makedirs(os.path.dirname(filename), exist_ok=True)\n",
    "    with open(filename, \"w\") as f:\n",
    "        f.write(getAgentRegistry(agentRegistrationIds, appRegistrationIds))\n",
    "    return res"
   ]
  },
  {
   "cell_type": "code",
   "execution_count": 74,
   "metadata": {},
   "outputs": [
    {
     "data": {
      "text/plain": [
       "[UUID('b505397c-3393-4441-b554-37eb8865cf22'),\n",
       " UUID('e94889e3-1311-43c0-b345-00bea8af26c5'),\n",
       " UUID('1c23b228-f924-475d-8a84-2c4233823852'),\n",
       " UUID('52b2167a-b110-4643-82f3-59c6dcbe09a2'),\n",
       " UUID('ccab5cd5-0840-4188-b3b3-43e6eafd99c8'),\n",
       " UUID('65aa6a81-41ee-43af-93dd-2b188d4c6917'),\n",
       " UUID('0518ecff-01bf-4241-a528-144995920b79'),\n",
       " UUID('67db277c-4e96-4ef0-8b34-ecf25869bcc6'),\n",
       " UUID('0f8b7ed0-0686-4668-a357-7ae3db89c034'),\n",
       " UUID('7dbb3717-2093-4504-b395-a1697b7d91ca')]"
      ]
     },
     "execution_count": 74,
     "metadata": {},
     "output_type": "execute_result"
    }
   ],
   "source": [
    "generateRegistrySet('pod-10_10', 10, 10, 5)"
   ]
  },
  {
   "cell_type": "code",
   "execution_count": null,
   "metadata": {},
   "outputs": [],
   "source": []
  }
 ],
 "metadata": {
  "interpreter": {
   "hash": "b0fa6594d8f4cbf19f97940f81e996739fb7646882a419484c72d19e05852a7e"
  },
  "kernelspec": {
   "display_name": "Python 3.9.10 64-bit",
   "language": "python",
   "name": "python3"
  },
  "language_info": {
   "codemirror_mode": {
    "name": "ipython",
    "version": 3
   },
   "file_extension": ".py",
   "mimetype": "text/x-python",
   "name": "python",
   "nbconvert_exporter": "python",
   "pygments_lexer": "ipython3",
   "version": "3.9.10"
  },
  "orig_nbformat": 4
 },
 "nbformat": 4,
 "nbformat_minor": 2
}
